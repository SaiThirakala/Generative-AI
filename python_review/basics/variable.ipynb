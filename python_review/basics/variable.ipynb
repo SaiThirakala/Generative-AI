{
 "cells": [
  {
   "cell_type": "markdown",
   "id": "b8f39992",
   "metadata": {},
   "source": [
    "Variables:\n",
    "- declaration and assignment\n",
    "- naming conventions\n",
    "- variable types\n",
    "- type checking and conversion\n",
    "- dynamic typing"
   ]
  },
  {
   "cell_type": "code",
   "execution_count": null,
   "id": "0e926a6a",
   "metadata": {
    "vscode": {
     "languageId": "plaintext"
    }
   },
   "outputs": [],
   "source": []
  },
  {
   "cell_type": "markdown",
   "id": "2fc0b60f",
   "metadata": {},
   "source": []
  }
 ],
 "metadata": {
  "language_info": {
   "name": "python"
  }
 },
 "nbformat": 4,
 "nbformat_minor": 5
}
