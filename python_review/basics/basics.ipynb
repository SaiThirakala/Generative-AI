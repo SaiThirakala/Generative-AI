{
 "cells": [
  {
   "cell_type": "markdown",
   "id": "db6dd970",
   "metadata": {},
   "source": [
    "Python Syntax"
   ]
  },
  {
   "cell_type": "code",
   "execution_count": null,
   "id": "72dda5e5",
   "metadata": {},
   "outputs": [],
   "source": [
    "## Basics Syntac Rules in Python"
   ]
  },
  {
   "cell_type": "code",
   "execution_count": null,
   "id": "bb5dcf92",
   "metadata": {},
   "outputs": [],
   "source": [
    "## Commenting\n",
    "\n",
    "## this is a single-line comment\n",
    "\n",
    "'''\n",
    "Use triple quotes to\n",
    "write multi-line comments\n",
    "'''"
   ]
  },
  {
   "cell_type": "code",
   "execution_count": 1,
   "id": "61dd6eec",
   "metadata": {},
   "outputs": [
    {
     "name": "stdout",
     "output_type": "stream",
     "text": [
      "sai\n",
      "Sai\n"
     ]
    }
   ],
   "source": [
    "## Case sentivitity - python is a case sensitive language\n",
    "name = \"sai\"\n",
    "Name = \"Sai\"\n",
    "\n",
    "print(name)\n",
    "print(Name)"
   ]
  },
  {
   "cell_type": "code",
   "execution_count": 4,
   "id": "fe6a10a3",
   "metadata": {},
   "outputs": [
    {
     "name": "stdout",
     "output_type": "stream",
     "text": [
      "22\n"
     ]
    }
   ],
   "source": [
    "## Indentation\n",
    "## Python uses indentation to define blocks of code\n",
    "\n",
    "age = 22\n",
    "if age >= 20:\n",
    "    print(age)\n",
    "\n"
   ]
  },
  {
   "cell_type": "code",
   "execution_count": 3,
   "id": "9bc7804a",
   "metadata": {},
   "outputs": [
    {
     "name": "stdout",
     "output_type": "stream",
     "text": [
      "30\n"
     ]
    }
   ],
   "source": [
    "## Line Continuation\n",
    "\n",
    "total = 1 + 2 + 3 + 4 + 5+\\\n",
    "4 + 5 + 6\n",
    "print(total)"
   ]
  },
  {
   "cell_type": "code",
   "execution_count": 5,
   "id": "22b4f16c",
   "metadata": {},
   "outputs": [
    {
     "name": "stdout",
     "output_type": "stream",
     "text": [
      "15\n"
     ]
    }
   ],
   "source": [
    "## Multiple statements on a single line\n",
    "x=5;y=10;z=x+y\n",
    "print(z)"
   ]
  },
  {
   "cell_type": "code",
   "execution_count": null,
   "id": "0fa5559b",
   "metadata": {},
   "outputs": [
    {
     "name": "stdout",
     "output_type": "stream",
     "text": [
      "<class 'str'>\n",
      "<class 'int'>\n"
     ]
    }
   ],
   "source": [
    "## Understanding Semantics in Python\n",
    "\n",
    "## Variable assignment\n",
    "name = \"Sai\"\n",
    "age = 22\n",
    "print(type(name))\n",
    "print(type(age))"
   ]
  },
  {
   "cell_type": "code",
   "execution_count": null,
   "id": "2cdae026",
   "metadata": {},
   "outputs": [],
   "source": [
    "## Type Inference\n",
    "# python will guess the type of a variable based on context\n",
    "variable = 10\n",
    "print(type(variable))\n",
    "\n",
    "# variable type can be changed during runtime\n",
    "variable = \"hi\"\n",
    "print(type(variable))"
   ]
  }
 ],
 "metadata": {
  "kernelspec": {
   "display_name": "Python 3",
   "language": "python",
   "name": "python3"
  },
  "language_info": {
   "codemirror_mode": {
    "name": "ipython",
    "version": 3
   },
   "file_extension": ".py",
   "mimetype": "text/x-python",
   "name": "python",
   "nbconvert_exporter": "python",
   "pygments_lexer": "ipython3",
   "version": "3.10.18"
  }
 },
 "nbformat": 4,
 "nbformat_minor": 5
}
